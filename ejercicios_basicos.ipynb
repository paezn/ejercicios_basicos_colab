{
  "nbformat": 4,
  "nbformat_minor": 0,
  "metadata": {
    "colab": {
      "provenance": [],
      "authorship_tag": "ABX9TyMzbkIWgJKcuyU/dLT+y2QM",
      "include_colab_link": true
    },
    "kernelspec": {
      "name": "python3",
      "display_name": "Python 3"
    },
    "language_info": {
      "name": "python"
    }
  },
  "cells": [
    {
      "cell_type": "markdown",
      "metadata": {
        "id": "view-in-github",
        "colab_type": "text"
      },
      "source": [
        "<a href=\"https://colab.research.google.com/github/paezn/ejercicios_basicos_colab/blob/main/ejercicios_basicos.ipynb\" target=\"_parent\"><img src=\"https://colab.research.google.com/assets/colab-badge.svg\" alt=\"Open In Colab\"/></a>"
      ]
    },
    {
      "cell_type": "markdown",
      "source": [
        "# Ejercicios básicos Python\n",
        "\n",
        "1. Suma de dos números\n",
        "2. Potencia de un número"
      ],
      "metadata": {
        "id": "bRq73HKKgaca"
      }
    },
    {
      "cell_type": "code",
      "execution_count": null,
      "metadata": {
        "id": "aGAAUiWpgThn"
      },
      "outputs": [],
      "source": [
        "# Suma de dos números enteros\n",
        "\n",
        "print(\"---------------------------\")\n",
        "print(\"---- SUMA DOS ENTEROS -----\")\n",
        "print(\"---------------------------\")\n",
        "\n",
        "# input\n",
        "x = int(input(\"Digite el valor de x: \"))\n",
        "y = int(input(\"Digite el valor de y: \"))\n",
        "\n",
        "# processing\n",
        "z = x + y\n",
        "\n",
        "# output\n",
        "print(\"La suma de \",x,\" + \",y,\" es \", z)"
      ]
    }
  ]
}